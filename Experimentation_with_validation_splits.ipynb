{
  "nbformat": 4,
  "nbformat_minor": 0,
  "metadata": {
    "colab": {
      "name": "Experimentation with validation splits.ipynb",
      "version": "0.3.2",
      "provenance": [],
      "toc_visible": true,
      "include_colab_link": true
    },
    "kernelspec": {
      "name": "python3",
      "display_name": "Python 3"
    },
    "accelerator": "GPU"
  },
  "cells": [
    {
      "cell_type": "markdown",
      "metadata": {
        "id": "view-in-github",
        "colab_type": "text"
      },
      "source": [
        "<a href=\"https://colab.research.google.com/github/sayakpaul/Phishing-Websites-Detection/blob/master/Experimentation_with_validation_splits.ipynb\" target=\"_parent\"><img src=\"https://colab.research.google.com/assets/colab-badge.svg\" alt=\"Open In Colab\"/></a>"
      ]
    },
    {
      "cell_type": "markdown",
      "metadata": {
        "id": "Y5Bx_q1_tl8M",
        "colab_type": "text"
      },
      "source": [
        "This notebook builds on top of [this notebook](github/sayakpaul/Phishing-Websites-Detection/blob/master/Phishing_Websites%27_Detection_with_Neural_Networks_using_fastai.ipynb) and[ this notebook](github/sayakpaul/Phishing-Websites-Detection/blob/master/Detecting%20Phishing%20Websites%20using%20Neural%20Networks.ipynb). Hence, I will not be describing anything about the dataset in much detail. The aim of this notebook is to experiment between random split and a split with respect to indices. \n",
        "\n",
        "We will use the  `random_split_by_pct()` and `split_by_idx()` helper functions provided by `fastai`. "
      ]
    },
    {
      "cell_type": "markdown",
      "metadata": {
        "id": "8qgmvyNkuje4",
        "colab_type": "text"
      },
      "source": [
        "### Imports and magics"
      ]
    },
    {
      "cell_type": "code",
      "metadata": {
        "id": "ktiFsBEeVSYW",
        "colab_type": "code",
        "colab": {}
      },
      "source": [
        "# Filter the uneccesary warnings\n",
        "import warnings\n",
        "warnings.filterwarnings(\"ignore\")\n",
        "\n",
        "# Import pandas and numpy\n",
        "import pandas as pd\n",
        "import numpy as np\n",
        "\n",
        "# Fix the random seed\n",
        "np.random.seed(7)\n",
        "\n",
        "from collections import Counter\n",
        "\n",
        "import matplotlib.pyplot as plt\n",
        "plt.style.use('ggplot')\n",
        "\n",
        "%matplotlib inline"
      ],
      "execution_count": 0,
      "outputs": []
    },
    {
      "cell_type": "markdown",
      "metadata": {
        "id": "L0xXf-xNups6",
        "colab_type": "text"
      },
      "source": [
        "### Dataset loading and class distribution"
      ]
    },
    {
      "cell_type": "code",
      "metadata": {
        "id": "wM9qsKG2YNNj",
        "colab_type": "code",
        "outputId": "8c5cf3fe-ba67-4981-831b-915868f5afa1",
        "colab": {
          "base_uri": "https://localhost:8080/",
          "height": 111
        }
      },
      "source": [
        "data = pd.read_csv('https://raw.githubusercontent.com/sayakpaul/Phishing-Websites-Detection/master/Phishing.csv')\n",
        "\n",
        "classes = Counter(data['Result'].values)\n",
        "class_dist = pd.DataFrame(classes.most_common(), columns=['Class', 'Num_Observations'])\n",
        "class_dist"
      ],
      "execution_count": 2,
      "outputs": [
        {
          "output_type": "execute_result",
          "data": {
            "text/html": [
              "<div>\n",
              "<style scoped>\n",
              "    .dataframe tbody tr th:only-of-type {\n",
              "        vertical-align: middle;\n",
              "    }\n",
              "\n",
              "    .dataframe tbody tr th {\n",
              "        vertical-align: top;\n",
              "    }\n",
              "\n",
              "    .dataframe thead th {\n",
              "        text-align: right;\n",
              "    }\n",
              "</style>\n",
              "<table border=\"1\" class=\"dataframe\">\n",
              "  <thead>\n",
              "    <tr style=\"text-align: right;\">\n",
              "      <th></th>\n",
              "      <th>Class</th>\n",
              "      <th>Num_Observations</th>\n",
              "    </tr>\n",
              "  </thead>\n",
              "  <tbody>\n",
              "    <tr>\n",
              "      <th>0</th>\n",
              "      <td>1</td>\n",
              "      <td>6157</td>\n",
              "    </tr>\n",
              "    <tr>\n",
              "      <th>1</th>\n",
              "      <td>-1</td>\n",
              "      <td>4898</td>\n",
              "    </tr>\n",
              "  </tbody>\n",
              "</table>\n",
              "</div>"
            ],
            "text/plain": [
              "   Class  Num_Observations\n",
              "0      1              6157\n",
              "1     -1              4898"
            ]
          },
          "metadata": {
            "tags": []
          },
          "execution_count": 2
        }
      ]
    },
    {
      "cell_type": "markdown",
      "metadata": {
        "id": "wilg8QWYu4Ky",
        "colab_type": "text"
      },
      "source": [
        "### Renaming, mapping and type-casting"
      ]
    },
    {
      "cell_type": "code",
      "metadata": {
        "id": "BaCLXJqDYYqB",
        "colab_type": "code",
        "colab": {}
      },
      "source": [
        "data.rename(columns={'Result': 'Class'}, inplace=True)\n",
        "\n",
        "data['Class'] = data['Class'].map({-1:0, 1:1})\n",
        "\n",
        "for col in data.columns:\n",
        "    data[col] = data[col].astype('category')"
      ],
      "execution_count": 0,
      "outputs": []
    },
    {
      "cell_type": "code",
      "metadata": {
        "id": "i5bDhIiOYkW4",
        "colab_type": "code",
        "colab": {}
      },
      "source": [
        "# Save the dataset temporarily\n",
        "!mkdir data\n",
        "data.to_csv('data/Phishing.csv', index=False)"
      ],
      "execution_count": 0,
      "outputs": []
    },
    {
      "cell_type": "markdown",
      "metadata": {
        "id": "PgINuawIwqVn",
        "colab_type": "text"
      },
      "source": [
        "### Importing `fastai` and preapring the `TabularDataBunch` with random splitting"
      ]
    },
    {
      "cell_type": "code",
      "metadata": {
        "id": "j5vyaYxHYqTP",
        "colab_type": "code",
        "colab": {}
      },
      "source": [
        "from fastai.tabular import * \n",
        "\n",
        "procs = [Categorify]\n",
        "dep_var = 'Class'\n",
        "cat_names = data.columns[:-1]\n",
        "\n",
        "\n",
        "path = Path('content/data')\n",
        "\n",
        "databunch = (TabularList.from_df(data, path=path, cat_names=cat_names, procs=procs)\n",
        "                  .random_split_by_pct(valid_pct=0.2, seed=np.random.seed(7))\n",
        "                  .label_from_df(cols=dep_var)\n",
        "                  .databunch())"
      ],
      "execution_count": 0,
      "outputs": []
    },
    {
      "cell_type": "markdown",
      "metadata": {
        "id": "chwDqvmpw4cY",
        "colab_type": "text"
      },
      "source": [
        "### Categorical vairables of the databunch and split details"
      ]
    },
    {
      "cell_type": "code",
      "metadata": {
        "id": "_b_xkvRWccWO",
        "colab_type": "code",
        "outputId": "e656ca1e-5a4e-4df8-c5d7-b3b343df00f7",
        "colab": {
          "base_uri": "https://localhost:8080/",
          "height": 170
        }
      },
      "source": [
        "databunch.train_ds.cat_names"
      ],
      "execution_count": 0,
      "outputs": [
        {
          "output_type": "stream",
          "text": [
            "Index(['having_IP_Address', 'URL_Length', 'Shortining_Service',\n",
            "       'having_At_Symbol', 'double_slash_redirecting', 'Prefix_Suffix',\n",
            "       'having_Sub_Domain', 'SSLfinal_State', 'Domain_registeration_length',\n",
            "       'Favicon', 'port', 'HTTPS_token', 'Request_URL', 'URL_of_Anchor',\n",
            "       'Links_in_tags', 'SFH', 'Submitting_to_email', 'Abnormal_URL',\n",
            "       'Redirect', 'on_mouseover', 'RightClick', 'popUpWidnow', 'Iframe',\n",
            "       'age_of_domain', 'DNSRecord', 'web_traffic', 'Page_Rank',\n",
            "       'Google_Index', 'Links_pointing_to_page', 'Statistical_report'],\n",
            "      dtype='object')\n"
          ],
          "name": "stdout"
        }
      ]
    },
    {
      "cell_type": "code",
      "metadata": {
        "id": "fFjeX6dNe4QH",
        "colab_type": "code",
        "outputId": "d5fa8851-4140-4b73-ee45-2dff8a89e9b4",
        "colab": {
          "base_uri": "https://localhost:8080/",
          "height": 326
        }
      },
      "source": [
        "databunch.label_list"
      ],
      "execution_count": 0,
      "outputs": [
        {
          "output_type": "execute_result",
          "data": {
            "text/plain": [
              "LabelLists;\n",
              "\n",
              "Train: LabelList (8844 items)\n",
              "x: TabularList\n",
              "having_IP_Address 1; URL_Length 1; Shortining_Service 1; having_At_Symbol 1; double_slash_redirecting 1; Prefix_Suffix -1; having_Sub_Domain 0; SSLfinal_State 1; Domain_registeration_length -1; Favicon 1; port 1; HTTPS_token -1; Request_URL 1; URL_of_Anchor 0; Links_in_tags -1; SFH -1; Submitting_to_email 1; Abnormal_URL 1; Redirect 0; on_mouseover 1; RightClick 1; popUpWidnow 1; Iframe 1; age_of_domain -1; DNSRecord -1; web_traffic 0; Page_Rank -1; Google_Index 1; Links_pointing_to_page 1; Statistical_report 1; ,having_IP_Address 1; URL_Length 0; Shortining_Service 1; having_At_Symbol 1; double_slash_redirecting 1; Prefix_Suffix -1; having_Sub_Domain -1; SSLfinal_State -1; Domain_registeration_length -1; Favicon 1; port 1; HTTPS_token -1; Request_URL 1; URL_of_Anchor 0; Links_in_tags -1; SFH -1; Submitting_to_email -1; Abnormal_URL -1; Redirect 0; on_mouseover 1; RightClick 1; popUpWidnow 1; Iframe 1; age_of_domain 1; DNSRecord -1; web_traffic 1; Page_Rank -1; Google_Index 1; Links_pointing_to_page 0; Statistical_report -1; ,having_IP_Address 1; URL_Length 0; Shortining_Service 1; having_At_Symbol 1; double_slash_redirecting 1; Prefix_Suffix -1; having_Sub_Domain -1; SSLfinal_State -1; Domain_registeration_length 1; Favicon 1; port 1; HTTPS_token -1; Request_URL -1; URL_of_Anchor 0; Links_in_tags 0; SFH -1; Submitting_to_email 1; Abnormal_URL 1; Redirect 0; on_mouseover 1; RightClick 1; popUpWidnow 1; Iframe 1; age_of_domain -1; DNSRecord -1; web_traffic 1; Page_Rank -1; Google_Index 1; Links_pointing_to_page -1; Statistical_report 1; ,having_IP_Address 1; URL_Length 0; Shortining_Service -1; having_At_Symbol 1; double_slash_redirecting 1; Prefix_Suffix -1; having_Sub_Domain 1; SSLfinal_State 1; Domain_registeration_length -1; Favicon 1; port 1; HTTPS_token 1; Request_URL 1; URL_of_Anchor 0; Links_in_tags 0; SFH -1; Submitting_to_email 1; Abnormal_URL 1; Redirect 0; on_mouseover -1; RightClick 1; popUpWidnow -1; Iframe 1; age_of_domain -1; DNSRecord -1; web_traffic 0; Page_Rank -1; Google_Index 1; Links_pointing_to_page 1; Statistical_report 1; ,having_IP_Address 1; URL_Length 0; Shortining_Service -1; having_At_Symbol 1; double_slash_redirecting 1; Prefix_Suffix -1; having_Sub_Domain -1; SSLfinal_State -1; Domain_registeration_length 1; Favicon 1; port 1; HTTPS_token 1; Request_URL -1; URL_of_Anchor -1; Links_in_tags 0; SFH -1; Submitting_to_email -1; Abnormal_URL -1; Redirect 0; on_mouseover 1; RightClick 1; popUpWidnow 1; Iframe 1; age_of_domain 1; DNSRecord -1; web_traffic -1; Page_Rank -1; Google_Index 1; Links_pointing_to_page 0; Statistical_report -1; \n",
              "y: CategoryList\n",
              "0,0,0,1,0\n",
              "Path: content/data;\n",
              "\n",
              "Valid: LabelList (2211 items)\n",
              "x: TabularList\n",
              "having_IP_Address 1; URL_Length -1; Shortining_Service 1; having_At_Symbol 1; double_slash_redirecting 1; Prefix_Suffix -1; having_Sub_Domain -1; SSLfinal_State -1; Domain_registeration_length 1; Favicon 1; port 1; HTTPS_token 1; Request_URL -1; URL_of_Anchor -1; Links_in_tags -1; SFH -1; Submitting_to_email 1; Abnormal_URL 1; Redirect 0; on_mouseover 1; RightClick 1; popUpWidnow 1; Iframe 1; age_of_domain -1; DNSRecord 1; web_traffic 0; Page_Rank 1; Google_Index 1; Links_pointing_to_page 0; Statistical_report 1; ,having_IP_Address -1; URL_Length -1; Shortining_Service 1; having_At_Symbol 1; double_slash_redirecting 1; Prefix_Suffix -1; having_Sub_Domain 0; SSLfinal_State -1; Domain_registeration_length -1; Favicon 1; port 1; HTTPS_token 1; Request_URL 1; URL_of_Anchor 0; Links_in_tags -1; SFH 1; Submitting_to_email 1; Abnormal_URL 1; Redirect 0; on_mouseover 1; RightClick 1; popUpWidnow 1; Iframe 1; age_of_domain -1; DNSRecord 1; web_traffic -1; Page_Rank 1; Google_Index 1; Links_pointing_to_page 1; Statistical_report 1; ,having_IP_Address 1; URL_Length -1; Shortining_Service 1; having_At_Symbol -1; double_slash_redirecting 1; Prefix_Suffix -1; having_Sub_Domain -1; SSLfinal_State -1; Domain_registeration_length -1; Favicon 1; port 1; HTTPS_token 1; Request_URL -1; URL_of_Anchor 1; Links_in_tags -1; SFH -1; Submitting_to_email 1; Abnormal_URL 1; Redirect 0; on_mouseover 1; RightClick 1; popUpWidnow 1; Iframe 1; age_of_domain 1; DNSRecord 1; web_traffic 1; Page_Rank -1; Google_Index -1; Links_pointing_to_page 0; Statistical_report 1; ,having_IP_Address -1; URL_Length -1; Shortining_Service -1; having_At_Symbol 1; double_slash_redirecting -1; Prefix_Suffix 1; having_Sub_Domain -1; SSLfinal_State 1; Domain_registeration_length -1; Favicon 1; port 1; HTTPS_token -1; Request_URL -1; URL_of_Anchor 0; Links_in_tags 0; SFH -1; Submitting_to_email 1; Abnormal_URL -1; Redirect 0; on_mouseover 1; RightClick 1; popUpWidnow 1; Iframe 1; age_of_domain 1; DNSRecord -1; web_traffic 1; Page_Rank -1; Google_Index 1; Links_pointing_to_page 0; Statistical_report -1; ,having_IP_Address -1; URL_Length -1; Shortining_Service -1; having_At_Symbol 1; double_slash_redirecting -1; Prefix_Suffix -1; having_Sub_Domain 1; SSLfinal_State 1; Domain_registeration_length 1; Favicon 1; port 1; HTTPS_token -1; Request_URL -1; URL_of_Anchor 0; Links_in_tags -1; SFH 1; Submitting_to_email 1; Abnormal_URL -1; Redirect 0; on_mouseover 1; RightClick 1; popUpWidnow 1; Iframe 1; age_of_domain -1; DNSRecord -1; web_traffic 1; Page_Rank -1; Google_Index -1; Links_pointing_to_page 1; Statistical_report 1; \n",
              "y: CategoryList\n",
              "0,0,0,1,1\n",
              "Path: content/data;\n",
              "\n",
              "Test: None"
            ]
          },
          "metadata": {
            "tags": []
          },
          "execution_count": 24
        }
      ]
    },
    {
      "cell_type": "markdown",
      "metadata": {
        "id": "ehtIzqDsxAlG",
        "colab_type": "text"
      },
      "source": [
        "### Training a basic model with entity embedding and 1cycle policy"
      ]
    },
    {
      "cell_type": "code",
      "metadata": {
        "id": "16OmZN3we8Mf",
        "colab_type": "code",
        "outputId": "d220f365-33c8-4e0e-f907-e516c70bfdbd",
        "colab": {
          "base_uri": "https://localhost:8080/",
          "height": 359
        }
      },
      "source": [
        "learn = tabular_learner(databunch, layers=[200,100], metrics=accuracy)\n",
        "learn.fit_one_cycle(10)"
      ],
      "execution_count": 6,
      "outputs": [
        {
          "output_type": "display_data",
          "data": {
            "text/html": [
              "<table border=\"1\" class=\"dataframe\">\n",
              "  <thead>\n",
              "    <tr style=\"text-align: left;\">\n",
              "      <th>epoch</th>\n",
              "      <th>train_loss</th>\n",
              "      <th>valid_loss</th>\n",
              "      <th>accuracy</th>\n",
              "      <th>time</th>\n",
              "    </tr>\n",
              "  </thead>\n",
              "  <tbody>\n",
              "    <tr>\n",
              "      <td>0</td>\n",
              "      <td>0.222418</td>\n",
              "      <td>0.137602</td>\n",
              "      <td>0.947083</td>\n",
              "      <td>00:02</td>\n",
              "    </tr>\n",
              "    <tr>\n",
              "      <td>1</td>\n",
              "      <td>0.168855</td>\n",
              "      <td>0.131224</td>\n",
              "      <td>0.944369</td>\n",
              "      <td>00:02</td>\n",
              "    </tr>\n",
              "    <tr>\n",
              "      <td>2</td>\n",
              "      <td>0.151120</td>\n",
              "      <td>0.118204</td>\n",
              "      <td>0.946178</td>\n",
              "      <td>00:02</td>\n",
              "    </tr>\n",
              "    <tr>\n",
              "      <td>3</td>\n",
              "      <td>0.136186</td>\n",
              "      <td>0.109984</td>\n",
              "      <td>0.954319</td>\n",
              "      <td>00:02</td>\n",
              "    </tr>\n",
              "    <tr>\n",
              "      <td>4</td>\n",
              "      <td>0.123933</td>\n",
              "      <td>0.136637</td>\n",
              "      <td>0.939846</td>\n",
              "      <td>00:02</td>\n",
              "    </tr>\n",
              "    <tr>\n",
              "      <td>5</td>\n",
              "      <td>0.114465</td>\n",
              "      <td>0.095191</td>\n",
              "      <td>0.963365</td>\n",
              "      <td>00:02</td>\n",
              "    </tr>\n",
              "    <tr>\n",
              "      <td>6</td>\n",
              "      <td>0.114802</td>\n",
              "      <td>0.090595</td>\n",
              "      <td>0.963817</td>\n",
              "      <td>00:02</td>\n",
              "    </tr>\n",
              "    <tr>\n",
              "      <td>7</td>\n",
              "      <td>0.093888</td>\n",
              "      <td>0.094725</td>\n",
              "      <td>0.959747</td>\n",
              "      <td>00:02</td>\n",
              "    </tr>\n",
              "    <tr>\n",
              "      <td>8</td>\n",
              "      <td>0.077647</td>\n",
              "      <td>0.083364</td>\n",
              "      <td>0.966079</td>\n",
              "      <td>00:02</td>\n",
              "    </tr>\n",
              "    <tr>\n",
              "      <td>9</td>\n",
              "      <td>0.079316</td>\n",
              "      <td>0.083269</td>\n",
              "      <td>0.966531</td>\n",
              "      <td>00:02</td>\n",
              "    </tr>\n",
              "  </tbody>\n",
              "</table>"
            ],
            "text/plain": [
              "<IPython.core.display.HTML object>"
            ]
          },
          "metadata": {
            "tags": []
          }
        }
      ]
    },
    {
      "cell_type": "markdown",
      "metadata": {
        "id": "HxP2_E8Qxk-Y",
        "colab_type": "text"
      },
      "source": [
        "### Model's losses"
      ]
    },
    {
      "cell_type": "code",
      "metadata": {
        "id": "dntzAxhagDyE",
        "colab_type": "code",
        "outputId": "1b5bc6fa-a96e-43b8-e380-6aadbaecfea4",
        "colab": {
          "base_uri": "https://localhost:8080/",
          "height": 286
        }
      },
      "source": [
        "learn.recorder.plot_losses()"
      ],
      "execution_count": 7,
      "outputs": [
        {
          "output_type": "display_data",
          "data": {
            "image/png": "[encoded data removed]",
            "text/plain": [
              "<Figure size 432x288 with 1 Axes>"
            ]
          },
          "metadata": {
            "tags": []
          }
        }
      ]
    },
    {
      "cell_type": "markdown",
      "metadata": {
        "id": "FtjQyrGsxoEN",
        "colab_type": "text"
      },
      "source": [
        "### Finding an optimal learning rate for the model"
      ]
    },
    {
      "cell_type": "code",
      "metadata": {
        "id": "85kNcEqygx0D",
        "colab_type": "code",
        "outputId": "dd307796-6d91-4bb8-8fbf-fc1d80641049",
        "colab": {
          "base_uri": "https://localhost:8080/",
          "height": 303
        }
      },
      "source": [
        "learn.lr_find()\n",
        "learn.recorder.plot()"
      ],
      "execution_count": 8,
      "outputs": [
        {
          "output_type": "display_data",
          "data": {
            "text/html": [
              ""
            ],
            "text/plain": [
              "<IPython.core.display.HTML object>"
            ]
          },
          "metadata": {
            "tags": []
          }
        },
        {
          "output_type": "stream",
          "text": [
            "LR Finder is complete, type {learner_name}.recorder.plot() to see the graph.\n"
          ],
          "name": "stdout"
        },
        {
          "output_type": "display_data",
          "data": {
            "image/png": "[encoded data removed]",
            "text/plain": [
              "<Figure size 432x288 with 1 Axes>"
            ]
          },
          "metadata": {
            "tags": []
          }
        }
      ]
    },
    {
      "cell_type": "markdown",
      "metadata": {
        "id": "xFyZsh5axxzf",
        "colab_type": "text"
      },
      "source": [
        "### Using the initial weights and a learning rate of `0.75*1e-05`"
      ]
    },
    {
      "cell_type": "code",
      "metadata": {
        "id": "hQ_WfdVahHSR",
        "colab_type": "code",
        "outputId": "d144cbd4-9ce1-4932-ccf4-ac5bba57eac9",
        "colab": {
          "base_uri": "https://localhost:8080/",
          "height": 204
        }
      },
      "source": [
        "learn.load('tmp')\n",
        "learn.fit_one_cycle(5, 0.75*1e-03)"
      ],
      "execution_count": 9,
      "outputs": [
        {
          "output_type": "display_data",
          "data": {
            "text/html": [
              "<table border=\"1\" class=\"dataframe\">\n",
              "  <thead>\n",
              "    <tr style=\"text-align: left;\">\n",
              "      <th>epoch</th>\n",
              "      <th>train_loss</th>\n",
              "      <th>valid_loss</th>\n",
              "      <th>accuracy</th>\n",
              "      <th>time</th>\n",
              "    </tr>\n",
              "  </thead>\n",
              "  <tbody>\n",
              "    <tr>\n",
              "      <td>0</td>\n",
              "      <td>0.074613</td>\n",
              "      <td>0.080322</td>\n",
              "      <td>0.969697</td>\n",
              "      <td>00:02</td>\n",
              "    </tr>\n",
              "    <tr>\n",
              "      <td>1</td>\n",
              "      <td>0.083885</td>\n",
              "      <td>0.090511</td>\n",
              "      <td>0.962913</td>\n",
              "      <td>00:02</td>\n",
              "    </tr>\n",
              "    <tr>\n",
              "      <td>2</td>\n",
              "      <td>0.078624</td>\n",
              "      <td>0.080654</td>\n",
              "      <td>0.967888</td>\n",
              "      <td>00:02</td>\n",
              "    </tr>\n",
              "    <tr>\n",
              "      <td>3</td>\n",
              "      <td>0.074189</td>\n",
              "      <td>0.081204</td>\n",
              "      <td>0.966531</td>\n",
              "      <td>00:02</td>\n",
              "    </tr>\n",
              "    <tr>\n",
              "      <td>4</td>\n",
              "      <td>0.068620</td>\n",
              "      <td>0.080812</td>\n",
              "      <td>0.967888</td>\n",
              "      <td>00:02</td>\n",
              "    </tr>\n",
              "  </tbody>\n",
              "</table>"
            ],
            "text/plain": [
              "<IPython.core.display.HTML object>"
            ]
          },
          "metadata": {
            "tags": []
          }
        }
      ]
    },
    {
      "cell_type": "code",
      "metadata": {
        "id": "g1GIZcDuhYQY",
        "colab_type": "code",
        "colab": {}
      },
      "source": [
        "# Saving model state\n",
        "learn.save('stage-1')"
      ],
      "execution_count": 0,
      "outputs": []
    },
    {
      "cell_type": "markdown",
      "metadata": {
        "id": "_R08F29TyAoV",
        "colab_type": "text"
      },
      "source": [
        "### Retraining using the previous weights and a bit of weight decay"
      ]
    },
    {
      "cell_type": "code",
      "metadata": {
        "id": "EsC090S7hiW4",
        "colab_type": "code",
        "outputId": "8ccdcda3-8d72-4263-b8b6-a818251ee94f",
        "colab": {
          "base_uri": "https://localhost:8080/",
          "height": 204
        }
      },
      "source": [
        "learn.load('stage-1')\n",
        "learn.fit_one_cycle(5, slice(1e-03), 0.025)"
      ],
      "execution_count": 11,
      "outputs": [
        {
          "output_type": "display_data",
          "data": {
            "text/html": [
              "<table border=\"1\" class=\"dataframe\">\n",
              "  <thead>\n",
              "    <tr style=\"text-align: left;\">\n",
              "      <th>epoch</th>\n",
              "      <th>train_loss</th>\n",
              "      <th>valid_loss</th>\n",
              "      <th>accuracy</th>\n",
              "      <th>time</th>\n",
              "    </tr>\n",
              "  </thead>\n",
              "  <tbody>\n",
              "    <tr>\n",
              "      <td>0</td>\n",
              "      <td>0.068156</td>\n",
              "      <td>0.084769</td>\n",
              "      <td>0.964722</td>\n",
              "      <td>00:02</td>\n",
              "    </tr>\n",
              "    <tr>\n",
              "      <td>1</td>\n",
              "      <td>0.079547</td>\n",
              "      <td>0.086404</td>\n",
              "      <td>0.967888</td>\n",
              "      <td>00:02</td>\n",
              "    </tr>\n",
              "    <tr>\n",
              "      <td>2</td>\n",
              "      <td>0.068765</td>\n",
              "      <td>0.077622</td>\n",
              "      <td>0.967436</td>\n",
              "      <td>00:02</td>\n",
              "    </tr>\n",
              "    <tr>\n",
              "      <td>3</td>\n",
              "      <td>0.064083</td>\n",
              "      <td>0.076942</td>\n",
              "      <td>0.966079</td>\n",
              "      <td>00:02</td>\n",
              "    </tr>\n",
              "    <tr>\n",
              "      <td>4</td>\n",
              "      <td>0.057128</td>\n",
              "      <td>0.074585</td>\n",
              "      <td>0.970602</td>\n",
              "      <td>00:02</td>\n",
              "    </tr>\n",
              "  </tbody>\n",
              "</table>"
            ],
            "text/plain": [
              "<IPython.core.display.HTML object>"
            ]
          },
          "metadata": {
            "tags": []
          }
        }
      ]
    },
    {
      "cell_type": "markdown",
      "metadata": {
        "id": "_XPE-s4DzfW0",
        "colab_type": "text"
      },
      "source": [
        "**A much better score!**"
      ]
    },
    {
      "cell_type": "code",
      "metadata": {
        "id": "Qvp9juK-m1Cx",
        "colab_type": "code",
        "colab": {}
      },
      "source": [
        "learn.save('stage-2')"
      ],
      "execution_count": 0,
      "outputs": []
    },
    {
      "cell_type": "markdown",
      "metadata": {
        "id": "eOUmOWew0F0C",
        "colab_type": "text"
      },
      "source": [
        "### Confusion matrix of the model"
      ]
    },
    {
      "cell_type": "code",
      "metadata": {
        "id": "1FEnHLsxz5sh",
        "colab_type": "code",
        "colab": {
          "base_uri": "https://localhost:8080/",
          "height": 314
        },
        "outputId": "6f38999c-d1d0-40f7-f607-a521d2cf4061"
      },
      "source": [
        "preds,y,losses = learn.get_preds(with_loss=True)\n",
        "interp = ClassificationInterpretation(learn, preds, y, losses)\n",
        "interp.plot_confusion_matrix()"
      ],
      "execution_count": 41,
      "outputs": [
        {
          "output_type": "display_data",
          "data": {
            "image/png": "[encoded data removed]",
            "text/plain": [
              "<Figure size 432x288 with 1 Axes>"
            ]
          },
          "metadata": {
            "tags": []
          }
        }
      ]
    },
    {
      "cell_type": "markdown",
      "metadata": {
        "id": "pBruWUkbyYWn",
        "colab_type": "text"
      },
      "source": [
        "### Now with a non-random split\n",
        "\n",
        "Using a fixed set of validation samples might not be a good idea for this problem. "
      ]
    },
    {
      "cell_type": "code",
      "metadata": {
        "id": "k5B0KIE4m4Ls",
        "colab_type": "code",
        "colab": {}
      },
      "source": [
        "non_random_databunch = (TabularList.from_df(data, path=path, cat_names=cat_names, procs=procs)\n",
        "                  .split_by_idx(valid_idx = range(len(data)-2211, len(data)))\n",
        "                  .label_from_df(cols=dep_var)\n",
        "                  .databunch())"
      ],
      "execution_count": 0,
      "outputs": []
    },
    {
      "cell_type": "markdown",
      "metadata": {
        "id": "7Ztenb7Ry5vk",
        "colab_type": "text"
      },
      "source": [
        "### Everything else what follows from here is same as the above"
      ]
    },
    {
      "cell_type": "code",
      "metadata": {
        "id": "Gm1FY0FaohSq",
        "colab_type": "code",
        "colab": {
          "base_uri": "https://localhost:8080/",
          "height": 359
        },
        "outputId": "a7291d3c-948f-419e-e3f4-4f03b3dd11ab"
      },
      "source": [
        "learn = tabular_learner(non_random_databunch, layers=[200,100], metrics=accuracy)\n",
        "learn.fit_one_cycle(10)"
      ],
      "execution_count": 27,
      "outputs": [
        {
          "output_type": "display_data",
          "data": {
            "text/html": [
              "<table border=\"1\" class=\"dataframe\">\n",
              "  <thead>\n",
              "    <tr style=\"text-align: left;\">\n",
              "      <th>epoch</th>\n",
              "      <th>train_loss</th>\n",
              "      <th>valid_loss</th>\n",
              "      <th>accuracy</th>\n",
              "      <th>time</th>\n",
              "    </tr>\n",
              "  </thead>\n",
              "  <tbody>\n",
              "    <tr>\n",
              "      <td>0</td>\n",
              "      <td>0.218769</td>\n",
              "      <td>0.200361</td>\n",
              "      <td>0.914971</td>\n",
              "      <td>00:01</td>\n",
              "    </tr>\n",
              "    <tr>\n",
              "      <td>1</td>\n",
              "      <td>0.159979</td>\n",
              "      <td>0.179134</td>\n",
              "      <td>0.919493</td>\n",
              "      <td>00:02</td>\n",
              "    </tr>\n",
              "    <tr>\n",
              "      <td>2</td>\n",
              "      <td>0.152013</td>\n",
              "      <td>0.214131</td>\n",
              "      <td>0.916780</td>\n",
              "      <td>00:02</td>\n",
              "    </tr>\n",
              "    <tr>\n",
              "      <td>3</td>\n",
              "      <td>0.135683</td>\n",
              "      <td>0.193577</td>\n",
              "      <td>0.918137</td>\n",
              "      <td>00:02</td>\n",
              "    </tr>\n",
              "    <tr>\n",
              "      <td>4</td>\n",
              "      <td>0.125174</td>\n",
              "      <td>0.177936</td>\n",
              "      <td>0.925825</td>\n",
              "      <td>00:02</td>\n",
              "    </tr>\n",
              "    <tr>\n",
              "      <td>5</td>\n",
              "      <td>0.120260</td>\n",
              "      <td>0.140550</td>\n",
              "      <td>0.939846</td>\n",
              "      <td>00:02</td>\n",
              "    </tr>\n",
              "    <tr>\n",
              "      <td>6</td>\n",
              "      <td>0.104981</td>\n",
              "      <td>0.156985</td>\n",
              "      <td>0.927182</td>\n",
              "      <td>00:02</td>\n",
              "    </tr>\n",
              "    <tr>\n",
              "      <td>7</td>\n",
              "      <td>0.088442</td>\n",
              "      <td>0.152789</td>\n",
              "      <td>0.937585</td>\n",
              "      <td>00:02</td>\n",
              "    </tr>\n",
              "    <tr>\n",
              "      <td>8</td>\n",
              "      <td>0.077883</td>\n",
              "      <td>0.157934</td>\n",
              "      <td>0.934871</td>\n",
              "      <td>00:02</td>\n",
              "    </tr>\n",
              "    <tr>\n",
              "      <td>9</td>\n",
              "      <td>0.074149</td>\n",
              "      <td>0.158337</td>\n",
              "      <td>0.934871</td>\n",
              "      <td>00:02</td>\n",
              "    </tr>\n",
              "  </tbody>\n",
              "</table>"
            ],
            "text/plain": [
              "<IPython.core.display.HTML object>"
            ]
          },
          "metadata": {
            "tags": []
          }
        }
      ]
    },
    {
      "cell_type": "code",
      "metadata": {
        "id": "mzu6rD8Kq4ms",
        "colab_type": "code",
        "colab": {}
      },
      "source": [
        "learn.save('stage-2-non-random')"
      ],
      "execution_count": 0,
      "outputs": []
    },
    {
      "cell_type": "code",
      "metadata": {
        "id": "rlHTrfhQqkSb",
        "colab_type": "code",
        "colab": {
          "base_uri": "https://localhost:8080/",
          "height": 286
        },
        "outputId": "b89f52e2-b7e0-4a24-bde1-58cec0ff5489"
      },
      "source": [
        "learn.recorder.plot_losses()"
      ],
      "execution_count": 29,
      "outputs": [
        {
          "output_type": "display_data",
          "data": {
            "image/png": "[encoded data removed]",
            "text/plain": [
              "<Figure size 432x288 with 1 Axes>"
            ]
          },
          "metadata": {
            "tags": []
          }
        }
      ]
    },
    {
      "cell_type": "code",
      "metadata": {
        "id": "PqrpyoITqPDp",
        "colab_type": "code",
        "colab": {
          "base_uri": "https://localhost:8080/",
          "height": 303
        },
        "outputId": "c901b4f3-820b-47d4-b766-73ecb4a390bb"
      },
      "source": [
        "learn.lr_find()\n",
        "learn.recorder.plot()"
      ],
      "execution_count": 32,
      "outputs": [
        {
          "output_type": "display_data",
          "data": {
            "text/html": [
              ""
            ],
            "text/plain": [
              "<IPython.core.display.HTML object>"
            ]
          },
          "metadata": {
            "tags": []
          }
        },
        {
          "output_type": "stream",
          "text": [
            "LR Finder is complete, type {learner_name}.recorder.plot() to see the graph.\n"
          ],
          "name": "stdout"
        },
        {
          "output_type": "display_data",
          "data": {
            "image/png": "[encoded data removed]",
            "text/plain": [
              "<Figure size 432x288 with 1 Axes>"
            ]
          },
          "metadata": {
            "tags": []
          }
        }
      ]
    },
    {
      "cell_type": "code",
      "metadata": {
        "id": "qT0Jd8Zoqdbb",
        "colab_type": "code",
        "colab": {
          "base_uri": "https://localhost:8080/",
          "height": 204
        },
        "outputId": "7d2f107c-7bf9-44b3-ed36-c31d6215aa3f"
      },
      "source": [
        "learn.load('stage-2-non-random')\n",
        "learn.fit_one_cycle(5, 1e-04)"
      ],
      "execution_count": 33,
      "outputs": [
        {
          "output_type": "display_data",
          "data": {
            "text/html": [
              "<table border=\"1\" class=\"dataframe\">\n",
              "  <thead>\n",
              "    <tr style=\"text-align: left;\">\n",
              "      <th>epoch</th>\n",
              "      <th>train_loss</th>\n",
              "      <th>valid_loss</th>\n",
              "      <th>accuracy</th>\n",
              "      <th>time</th>\n",
              "    </tr>\n",
              "  </thead>\n",
              "  <tbody>\n",
              "    <tr>\n",
              "      <td>0</td>\n",
              "      <td>0.066610</td>\n",
              "      <td>0.159552</td>\n",
              "      <td>0.933967</td>\n",
              "      <td>00:02</td>\n",
              "    </tr>\n",
              "    <tr>\n",
              "      <td>1</td>\n",
              "      <td>0.071841</td>\n",
              "      <td>0.157673</td>\n",
              "      <td>0.933514</td>\n",
              "      <td>00:02</td>\n",
              "    </tr>\n",
              "    <tr>\n",
              "      <td>2</td>\n",
              "      <td>0.073377</td>\n",
              "      <td>0.163385</td>\n",
              "      <td>0.933062</td>\n",
              "      <td>00:02</td>\n",
              "    </tr>\n",
              "    <tr>\n",
              "      <td>3</td>\n",
              "      <td>0.073682</td>\n",
              "      <td>0.159165</td>\n",
              "      <td>0.934419</td>\n",
              "      <td>00:02</td>\n",
              "    </tr>\n",
              "    <tr>\n",
              "      <td>4</td>\n",
              "      <td>0.071067</td>\n",
              "      <td>0.157128</td>\n",
              "      <td>0.932157</td>\n",
              "      <td>00:02</td>\n",
              "    </tr>\n",
              "  </tbody>\n",
              "</table>"
            ],
            "text/plain": [
              "<IPython.core.display.HTML object>"
            ]
          },
          "metadata": {
            "tags": []
          }
        }
      ]
    },
    {
      "cell_type": "code",
      "metadata": {
        "id": "p9uEsqhgtXyh",
        "colab_type": "code",
        "colab": {}
      },
      "source": [
        "learn.save('stage-3-non-random')"
      ],
      "execution_count": 0,
      "outputs": []
    },
    {
      "cell_type": "code",
      "metadata": {
        "id": "yDxqxebmsspX",
        "colab_type": "code",
        "colab": {
          "base_uri": "https://localhost:8080/",
          "height": 204
        },
        "outputId": "f80278e5-9cee-48cb-c63d-34f540a3417c"
      },
      "source": [
        "learn.load('stage-3-non-random')\n",
        "learn.fit_one_cycle(5, slice(1e-04), 0.025)"
      ],
      "execution_count": 35,
      "outputs": [
        {
          "output_type": "display_data",
          "data": {
            "text/html": [
              "<table border=\"1\" class=\"dataframe\">\n",
              "  <thead>\n",
              "    <tr style=\"text-align: left;\">\n",
              "      <th>epoch</th>\n",
              "      <th>train_loss</th>\n",
              "      <th>valid_loss</th>\n",
              "      <th>accuracy</th>\n",
              "      <th>time</th>\n",
              "    </tr>\n",
              "  </thead>\n",
              "  <tbody>\n",
              "    <tr>\n",
              "      <td>0</td>\n",
              "      <td>0.070018</td>\n",
              "      <td>0.160826</td>\n",
              "      <td>0.934419</td>\n",
              "      <td>00:02</td>\n",
              "    </tr>\n",
              "    <tr>\n",
              "      <td>1</td>\n",
              "      <td>0.069421</td>\n",
              "      <td>0.154737</td>\n",
              "      <td>0.935776</td>\n",
              "      <td>00:02</td>\n",
              "    </tr>\n",
              "    <tr>\n",
              "      <td>2</td>\n",
              "      <td>0.072288</td>\n",
              "      <td>0.159307</td>\n",
              "      <td>0.933062</td>\n",
              "      <td>00:02</td>\n",
              "    </tr>\n",
              "    <tr>\n",
              "      <td>3</td>\n",
              "      <td>0.069989</td>\n",
              "      <td>0.155310</td>\n",
              "      <td>0.933062</td>\n",
              "      <td>00:02</td>\n",
              "    </tr>\n",
              "    <tr>\n",
              "      <td>4</td>\n",
              "      <td>0.067183</td>\n",
              "      <td>0.154376</td>\n",
              "      <td>0.935323</td>\n",
              "      <td>00:02</td>\n",
              "    </tr>\n",
              "  </tbody>\n",
              "</table>"
            ],
            "text/plain": [
              "<IPython.core.display.HTML object>"
            ]
          },
          "metadata": {
            "tags": []
          }
        }
      ]
    },
    {
      "cell_type": "markdown",
      "metadata": {
        "id": "BvoQr1tg0QhP",
        "colab_type": "text"
      },
      "source": [
        "**The difference between the score is clear.**"
      ]
    }
  ]
}